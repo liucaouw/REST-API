{
 "cells": [
  {
   "cell_type": "markdown",
   "metadata": {},
   "source": [
    "# Search something on YouTube\n",
    "1. Figure out how to query for a video\n",
    "2. Figure out how to display a list of videos using Pandas (hint: use one of the utilties functions)\n",
    "3. Figure out how to embed the first video returned from your search results in the notebook\n"
   ]
  },
  {
   "cell_type": "code",
   "execution_count": 1,
   "metadata": {},
   "outputs": [
    {
     "data": {
      "text/html": [
       "\n",
       "        <style>\n",
       "            .rendered_html img { \n",
       "                display: inline-block; \n",
       "                vertical-align: baseline;\n",
       "                max-width: 200px !important;\n",
       "                margin-right: 20px !important;\n",
       "            }\n",
       "            .rendered_html td, .rendered_html th { text-align: left !important; }\n",
       "        </style>\n",
       "        "
      ],
      "text/plain": [
       "<IPython.core.display.HTML object>"
      ]
     },
     "execution_count": 1,
     "metadata": {},
     "output_type": "execute_result"
    }
   ],
   "source": [
    "from apis import youtube\n",
    "from apis import utilities\n",
    "from pprint import pprint\n",
    "from IPython.core.display import HTML\n",
    "\n",
    "# some formatting:\n",
    "HTML(utilities.get_jupyter_styling())"
   ]
  },
  {
   "cell_type": "code",
   "execution_count": 2,
   "metadata": {},
   "outputs": [
    {
     "name": "stdout",
     "output_type": "stream",
     "text": [
      "Help on module apis.youtube in apis:\n",
      "\n",
      "NAME\n",
      "    apis.youtube\n",
      "\n",
      "FUNCTIONS\n",
      "    get_image_html(image_url)\n",
      "        Returns an HTML image tag (str). Requires an image_url (string) argument.\n",
      "    \n",
      "    get_video_player_html(embed_url, width=560, height=315)\n",
      "        Returns an HTML IFrame (str). Requires an embed_url (string) argument.\n",
      "    \n",
      "    get_videos(search_term, simplify=True)\n",
      "        Retrieves a list of YouTube videos.\n",
      "            * search_term (str): Required search term\n",
      "            * simplify (bool):   Indicates whether you want to simplify the data that is returned.\n",
      "        Returns a list of YouTube videos.\n",
      "\n",
      "FILE\n",
      "    /Users/caoweidong/Desktop/eecs110/lectures/lecture_16/apis/youtube.py\n",
      "\n",
      "\n"
     ]
    }
   ],
   "source": [
    "help(youtube)"
   ]
  },
  {
   "cell_type": "code",
   "execution_count": 3,
   "metadata": {},
   "outputs": [
    {
     "name": "stdout",
     "output_type": "stream",
     "text": [
      "Help on module apis.utilities in apis:\n",
      "\n",
      "NAME\n",
      "    apis.utilities\n",
      "\n",
      "FUNCTIONS\n",
      "    flatten_for_pandas(data:list)\n",
      "        Converts a list of nested dictionaries into a list of flattened \n",
      "        dictionaries that can be more easilty displayed using pandas.\n",
      "            * data (list): [Required] a list of dictionaries\n",
      "        Returns a flattened list of dictionaries (list).\n",
      "    \n",
      "    get_dataframe(data:list)\n",
      "        Converts a list of dictionaries into a flattened pandas dataframe.\n",
      "    \n",
      "    get_image_html(image_url:str)\n",
      "        Creates an image (HTML)\n",
      "            * image_url (str): [Required] The url of the image.\n",
      "        Returns an HTML image tag (str).\n",
      "    \n",
      "    get_jupyter_styling()\n",
      "\n",
      "FILE\n",
      "    /Users/caoweidong/Desktop/eecs110/lectures/lecture_16/apis/utilities.py\n",
      "\n",
      "\n"
     ]
    }
   ],
   "source": [
    "help(utilities)"
   ]
  },
  {
   "cell_type": "code",
   "execution_count": 7,
   "metadata": {},
   "outputs": [
    {
     "name": "stdout",
     "output_type": "stream",
     "text": [
      "[{'videoId': 'lbs75i3gtFw', 'thumb_url': 'https://i.ytimg.com/vi/lbs75i3gtFw/hqdefault.jpg', 'title': 'Pressure on Steph Curry in Game 3 with no KD and Klay - Nick Wright | NBA | FIRST THINGS FIRST', 'url': 'https://www.youtube.com/watch?v=lbs75i3gtFw', 'embed_url': 'https://www.youtube.com/embed/lbs75i3gtFw', 'share_url': 'https://www.youtube.com/lbs75i3gtFw'}, {'videoId': 'QijqEo9odzQ', 'thumb_url': 'https://i.ytimg.com/vi/QijqEo9odzQ/hqdefault.jpg', 'title': '‘Other players in the league know who I am’ – Steph Curry | 2019 NBA Finals', 'url': 'https://www.youtube.com/watch?v=QijqEo9odzQ', 'embed_url': 'https://www.youtube.com/embed/QijqEo9odzQ', 'share_url': 'https://www.youtube.com/QijqEo9odzQ'}, {'videoId': 'd_T0lqsypw8', 'thumb_url': 'https://i.ytimg.com/vi/d_T0lqsypw8/hqdefault.jpg', 'title': 'Stephen Curry Full Highlights 2019 Finals Game 2 Warriors vs Raptors   23 Pts,4 Asts! | FreeDawkins', 'url': 'https://www.youtube.com/watch?v=d_T0lqsypw8', 'embed_url': 'https://www.youtube.com/embed/d_T0lqsypw8', 'share_url': 'https://www.youtube.com/d_T0lqsypw8'}, {'videoId': 'hXAybVfC1Fs', 'thumb_url': 'https://i.ytimg.com/vi/hXAybVfC1Fs/hqdefault.jpg', 'title': 'Stephen Curry Mix ~ &quot;Cross Me&quot; ᴴᴰ', 'url': 'https://www.youtube.com/watch?v=hXAybVfC1Fs', 'embed_url': 'https://www.youtube.com/embed/hXAybVfC1Fs', 'share_url': 'https://www.youtube.com/hXAybVfC1Fs'}, {'videoId': 'xntLL3GvuHc', 'thumb_url': 'https://i.ytimg.com/vi/xntLL3GvuHc/hqdefault.jpg', 'title': 'Drake Angry Look at Stephen Curry Celebrating Cook&#39;s 3-Pointer - Game 2 | 2019 NBA Finals', 'url': 'https://www.youtube.com/watch?v=xntLL3GvuHc', 'embed_url': 'https://www.youtube.com/embed/xntLL3GvuHc', 'share_url': 'https://www.youtube.com/xntLL3GvuHc'}]\n"
     ]
    }
   ],
   "source": [
    "# Just a little syntax help...\n",
    "videos=youtube.get_videos('Stephen Curry',simplify=True)\n",
    "print(videos)"
   ]
  },
  {
   "cell_type": "code",
   "execution_count": 8,
   "metadata": {},
   "outputs": [
    {
     "data": {
      "text/html": [
       "<div>\n",
       "<style scoped>\n",
       "    .dataframe tbody tr th:only-of-type {\n",
       "        vertical-align: middle;\n",
       "    }\n",
       "\n",
       "    .dataframe tbody tr th {\n",
       "        vertical-align: top;\n",
       "    }\n",
       "\n",
       "    .dataframe thead th {\n",
       "        text-align: right;\n",
       "    }\n",
       "</style>\n",
       "<table border=\"1\" class=\"dataframe\">\n",
       "  <thead>\n",
       "    <tr style=\"text-align: right;\">\n",
       "      <th></th>\n",
       "      <th>title</th>\n",
       "      <th>embed_url</th>\n",
       "      <th>videoId</th>\n",
       "    </tr>\n",
       "    <tr>\n",
       "      <th>num</th>\n",
       "      <th></th>\n",
       "      <th></th>\n",
       "      <th></th>\n",
       "    </tr>\n",
       "  </thead>\n",
       "  <tbody>\n",
       "    <tr>\n",
       "      <th>1</th>\n",
       "      <td>Pressure on Steph Curry in Game 3 with no KD a...</td>\n",
       "      <td>https://www.youtube.com/embed/lbs75i3gtFw</td>\n",
       "      <td>lbs75i3gtFw</td>\n",
       "    </tr>\n",
       "    <tr>\n",
       "      <th>2</th>\n",
       "      <td>‘Other players in the league know who I am’ – ...</td>\n",
       "      <td>https://www.youtube.com/embed/QijqEo9odzQ</td>\n",
       "      <td>QijqEo9odzQ</td>\n",
       "    </tr>\n",
       "    <tr>\n",
       "      <th>3</th>\n",
       "      <td>Stephen Curry Full Highlights 2019 Finals Game...</td>\n",
       "      <td>https://www.youtube.com/embed/d_T0lqsypw8</td>\n",
       "      <td>d_T0lqsypw8</td>\n",
       "    </tr>\n",
       "    <tr>\n",
       "      <th>4</th>\n",
       "      <td>Stephen Curry Mix ~ &amp;quot;Cross Me&amp;quot; ᴴᴰ</td>\n",
       "      <td>https://www.youtube.com/embed/hXAybVfC1Fs</td>\n",
       "      <td>hXAybVfC1Fs</td>\n",
       "    </tr>\n",
       "    <tr>\n",
       "      <th>5</th>\n",
       "      <td>Drake Angry Look at Stephen Curry Celebrating ...</td>\n",
       "      <td>https://www.youtube.com/embed/xntLL3GvuHc</td>\n",
       "      <td>xntLL3GvuHc</td>\n",
       "    </tr>\n",
       "  </tbody>\n",
       "</table>\n",
       "</div>"
      ],
      "text/plain": [
       "                                                 title  \\\n",
       "num                                                      \n",
       "1    Pressure on Steph Curry in Game 3 with no KD a...   \n",
       "2    ‘Other players in the league know who I am’ – ...   \n",
       "3    Stephen Curry Full Highlights 2019 Finals Game...   \n",
       "4          Stephen Curry Mix ~ &quot;Cross Me&quot; ᴴᴰ   \n",
       "5    Drake Angry Look at Stephen Curry Celebrating ...   \n",
       "\n",
       "                                     embed_url      videoId  \n",
       "num                                                          \n",
       "1    https://www.youtube.com/embed/lbs75i3gtFw  lbs75i3gtFw  \n",
       "2    https://www.youtube.com/embed/QijqEo9odzQ  QijqEo9odzQ  \n",
       "3    https://www.youtube.com/embed/d_T0lqsypw8  d_T0lqsypw8  \n",
       "4    https://www.youtube.com/embed/hXAybVfC1Fs  hXAybVfC1Fs  \n",
       "5    https://www.youtube.com/embed/xntLL3GvuHc  xntLL3GvuHc  "
      ]
     },
     "execution_count": 8,
     "metadata": {},
     "output_type": "execute_result"
    }
   ],
   "source": [
    "df=utilities.get_dataframe(videos)\n",
    "df[['title','embed_url','videoId']]"
   ]
  },
  {
   "cell_type": "code",
   "execution_count": 11,
   "metadata": {},
   "outputs": [
    {
     "data": {
      "text/html": [
       "\n",
       "    <iframe width=\"560\" height=\"315\" src=\"https://www.youtube.com/embed/hXAybVfC1Fs\" \n",
       "        frameborder=\"0\" \n",
       "        allow=\"accelerometer; autoplay; encrypted-media; gyroscope; picture-in-picture\" \n",
       "        allowfullscreen>\n",
       "    </iframe>\n",
       "    "
      ],
      "text/plain": [
       "<IPython.core.display.HTML object>"
      ]
     },
     "metadata": {},
     "output_type": "display_data"
    }
   ],
   "source": [
    "#embed_url=videos[0]['embed_url']\n",
    "embed_url=videos[3].get('embed_url')\n",
    "vedio_player=youtube.get_video_player_html(embed_url)\n",
    "display(HTML(vedio_player))"
   ]
  },
  {
   "cell_type": "code",
   "execution_count": null,
   "metadata": {},
   "outputs": [],
   "source": []
  }
 ],
 "metadata": {
  "kernelspec": {
   "display_name": "Python 3",
   "language": "python",
   "name": "python3"
  },
  "language_info": {
   "codemirror_mode": {
    "name": "ipython",
    "version": 3
   },
   "file_extension": ".py",
   "mimetype": "text/x-python",
   "name": "python",
   "nbconvert_exporter": "python",
   "pygments_lexer": "ipython3",
   "version": "3.6.4"
  }
 },
 "nbformat": 4,
 "nbformat_minor": 2
}
