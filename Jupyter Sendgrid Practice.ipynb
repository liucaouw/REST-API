{
 "cells": [
  {
   "cell_type": "markdown",
   "metadata": {},
   "source": [
    "# Send a email\n",
    "1. Figure out how to send an email\n",
    "2. Figure out how to send an email with an image in it. Here is the HTML for an image (use whatever image link you want):\n",
    "\n",
    "```html\n",
    "<img src=\"https://i.scdn.co/image/eb2ed0c17353cb509c2a57265fe90dfc7c7fa592\">\n",
    "```"
   ]
  },
  {
   "cell_type": "code",
   "execution_count": 1,
   "metadata": {},
   "outputs": [],
   "source": [
    "from apis import sendgrid"
   ]
  },
  {
   "cell_type": "code",
   "execution_count": 2,
   "metadata": {},
   "outputs": [
    {
     "name": "stdout",
     "output_type": "stream",
     "text": [
      "Help on module apis.sendgrid in apis:\n",
      "\n",
      "NAME\n",
      "    apis.sendgrid\n",
      "\n",
      "FUNCTIONS\n",
      "    send_mail(from_email:str, to_emails:tuple, subject:str, html_content:str)\n",
      "        Uses the SendGrid API to send an email. \n",
      "            * from_email(str):      Required. The sender's email\n",
      "            * to_emails(tuple):     Required: A tuple of recipient emails\n",
      "            * subject(str):         Required: The subject of the email \n",
      "            * html_content(str):    Required: Text or HTML to be included in the body of the email.\n",
      "        Returns True if the email was successfully sent, False otherwise.\n",
      "\n",
      "FILE\n",
      "    /Users/caoweidong/Desktop/eecs110/lectures/lecture_16/apis/sendgrid.py\n",
      "\n",
      "\n"
     ]
    }
   ],
   "source": [
    "help(sendgrid)"
   ]
  },
  {
   "cell_type": "code",
   "execution_count": 3,
   "metadata": {},
   "outputs": [
    {
     "name": "stdout",
     "output_type": "stream",
     "text": [
      "Email sent.\n"
     ]
    },
    {
     "data": {
      "text/plain": [
       "True"
      ]
     },
     "execution_count": 3,
     "metadata": {},
     "output_type": "execute_result"
    }
   ],
   "source": [
    "sendgrid.send_mail('The sender\\'s email',\n",
    "                   ('The recipient\\'s emails'),\n",
    "                   'How are you?',\n",
    "                   'hey there!')"
   ]
  },
  {
   "cell_type": "code",
   "execution_count": null,
   "metadata": {},
   "outputs": [],
   "source": []
  }
 ],
 "metadata": {
  "kernelspec": {
   "display_name": "Python 3",
   "language": "python",
   "name": "python3"
  },
  "language_info": {
   "codemirror_mode": {
    "name": "ipython",
    "version": 3
   },
   "file_extension": ".py",
   "mimetype": "text/x-python",
   "name": "python",
   "nbconvert_exporter": "python",
   "pygments_lexer": "ipython3",
   "version": "3.6.4"
  }
 },
 "nbformat": 4,
 "nbformat_minor": 2
}
